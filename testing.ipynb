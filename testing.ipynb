{
 "cells": [
  {
   "cell_type": "markdown",
   "metadata": {},
   "source": [
    "# Testing File\n",
    "\n",
    "This file is used to test and document various attempted preprocessing methods without cluttering the main final_report.ipynb file."
   ]
  },
  {
   "cell_type": "code",
   "execution_count": 470,
   "metadata": {},
   "outputs": [],
   "source": [
    "import pandas as pd\n",
    "import numpy as np\n",
    "import seaborn as sns\n",
    "import matplotlib.pyplot as plt\n",
    "from sklearn import preprocessing\n",
    "from sklearn.decomposition import PCA\n",
    "from sklearn.preprocessing import StandardScaler\n",
    "from sklearn.model_selection import cross_val_score, KFold, train_test_split, GridSearchCV\n",
    "from sklearn.ensemble import RandomForestClassifier\n",
    "from sklearn.metrics import accuracy_score, recall_score, f1_score, precision_score, classification_report, confusion_matrix, ConfusionMatrixDisplay"
   ]
  },
  {
   "cell_type": "code",
   "execution_count": 596,
   "metadata": {},
   "outputs": [],
   "source": [
    "df1 = pd.read_csv('data/games.csv')\n",
    "\n",
    "df2 = pd.read_csv('data/games.csv')\n",
    "\n",
    "df3 = pd.read_csv('data/games.csv')\n",
    "\n",
    "df4 = pd.read_csv('data/games.csv')\n",
    "\n",
    "df5 = pd.read_csv('data/games.csv')\n",
    "\n",
    "df6 = pd.read_csv('data/games.csv')\n",
    "\n",
    "# print(df1.shape)\n",
    "# df1.head()\n",
    "\n",
    "df1.drop(['id', 'turns', 'victory_status', 'created_at', 'last_move_at', 'white_id', 'black_id'], axis=1, inplace=True)\n",
    "\n",
    "df2.drop(['id', 'turns', 'victory_status', 'created_at', 'last_move_at', 'white_id', 'black_id'], axis=1, inplace=True)\n",
    "\n",
    "df3.drop(['id', 'turns', 'victory_status', 'created_at', 'last_move_at', 'white_id', 'black_id'], axis=1, inplace=True)\n",
    "\n",
    "df4.drop(['id', 'turns', 'victory_status', 'created_at', 'last_move_at', 'white_id', 'black_id'], axis=1, inplace=True)\n",
    "\n",
    "df5.drop(['id', 'turns', 'victory_status', 'created_at', 'last_move_at', 'white_id', 'black_id'], axis=1, inplace=True)\n",
    "\n",
    "df6.drop(['id', 'turns', 'victory_status', 'created_at', 'last_move_at', 'white_id', 'black_id'], axis=1, inplace=True)"
   ]
  },
  {
   "cell_type": "code",
   "execution_count": 461,
   "metadata": {},
   "outputs": [
    {
     "data": {
      "text/html": [
       "<div>\n",
       "<style scoped>\n",
       "    .dataframe tbody tr th:only-of-type {\n",
       "        vertical-align: middle;\n",
       "    }\n",
       "\n",
       "    .dataframe tbody tr th {\n",
       "        vertical-align: top;\n",
       "    }\n",
       "\n",
       "    .dataframe thead th {\n",
       "        text-align: right;\n",
       "    }\n",
       "</style>\n",
       "<table border=\"1\" class=\"dataframe\">\n",
       "  <thead>\n",
       "    <tr style=\"text-align: right;\">\n",
       "      <th></th>\n",
       "      <th>rated</th>\n",
       "      <th>winner</th>\n",
       "      <th>increment_code</th>\n",
       "      <th>white_rating</th>\n",
       "      <th>black_rating</th>\n",
       "      <th>moves</th>\n",
       "      <th>opening_eco</th>\n",
       "      <th>opening_name</th>\n",
       "      <th>opening_ply</th>\n",
       "    </tr>\n",
       "  </thead>\n",
       "  <tbody>\n",
       "    <tr>\n",
       "      <th>0</th>\n",
       "      <td>False</td>\n",
       "      <td>white</td>\n",
       "      <td>15+2</td>\n",
       "      <td>1500</td>\n",
       "      <td>1191</td>\n",
       "      <td>d4 d5 c4 c6 cxd5 e6 dxe6 fxe6 Nf3 Bb4+ Nc3 Ba5...</td>\n",
       "      <td>D10</td>\n",
       "      <td>Slav Defense: Exchange Variation</td>\n",
       "      <td>5</td>\n",
       "    </tr>\n",
       "    <tr>\n",
       "      <th>1</th>\n",
       "      <td>True</td>\n",
       "      <td>black</td>\n",
       "      <td>5+10</td>\n",
       "      <td>1322</td>\n",
       "      <td>1261</td>\n",
       "      <td>d4 Nc6 e4 e5 f4 f6 dxe5 fxe5 fxe5 Nxe5 Qd4 Nc6...</td>\n",
       "      <td>B00</td>\n",
       "      <td>Nimzowitsch Defense: Kennedy Variation</td>\n",
       "      <td>4</td>\n",
       "    </tr>\n",
       "    <tr>\n",
       "      <th>2</th>\n",
       "      <td>True</td>\n",
       "      <td>white</td>\n",
       "      <td>5+10</td>\n",
       "      <td>1496</td>\n",
       "      <td>1500</td>\n",
       "      <td>e4 e5 d3 d6 Be3 c6 Be2 b5 Nd2 a5 a4 c5 axb5 Nc...</td>\n",
       "      <td>C20</td>\n",
       "      <td>King's Pawn Game: Leonardis Variation</td>\n",
       "      <td>3</td>\n",
       "    </tr>\n",
       "    <tr>\n",
       "      <th>3</th>\n",
       "      <td>True</td>\n",
       "      <td>white</td>\n",
       "      <td>20+0</td>\n",
       "      <td>1439</td>\n",
       "      <td>1454</td>\n",
       "      <td>d4 d5 Nf3 Bf5 Nc3 Nf6 Bf4 Ng4 e3 Nc6 Be2 Qd7 O...</td>\n",
       "      <td>D02</td>\n",
       "      <td>Queen's Pawn Game: Zukertort Variation</td>\n",
       "      <td>3</td>\n",
       "    </tr>\n",
       "    <tr>\n",
       "      <th>4</th>\n",
       "      <td>True</td>\n",
       "      <td>white</td>\n",
       "      <td>30+3</td>\n",
       "      <td>1523</td>\n",
       "      <td>1469</td>\n",
       "      <td>e4 e5 Nf3 d6 d4 Nc6 d5 Nb4 a3 Na6 Nc3 Be7 b4 N...</td>\n",
       "      <td>C41</td>\n",
       "      <td>Philidor Defense</td>\n",
       "      <td>5</td>\n",
       "    </tr>\n",
       "  </tbody>\n",
       "</table>\n",
       "</div>"
      ],
      "text/plain": [
       "   rated winner increment_code  white_rating  black_rating  \\\n",
       "0  False  white           15+2          1500          1191   \n",
       "1   True  black           5+10          1322          1261   \n",
       "2   True  white           5+10          1496          1500   \n",
       "3   True  white           20+0          1439          1454   \n",
       "4   True  white           30+3          1523          1469   \n",
       "\n",
       "                                               moves opening_eco  \\\n",
       "0  d4 d5 c4 c6 cxd5 e6 dxe6 fxe6 Nf3 Bb4+ Nc3 Ba5...         D10   \n",
       "1  d4 Nc6 e4 e5 f4 f6 dxe5 fxe5 fxe5 Nxe5 Qd4 Nc6...         B00   \n",
       "2  e4 e5 d3 d6 Be3 c6 Be2 b5 Nd2 a5 a4 c5 axb5 Nc...         C20   \n",
       "3  d4 d5 Nf3 Bf5 Nc3 Nf6 Bf4 Ng4 e3 Nc6 Be2 Qd7 O...         D02   \n",
       "4  e4 e5 Nf3 d6 d4 Nc6 d5 Nb4 a3 Na6 Nc3 Be7 b4 N...         C41   \n",
       "\n",
       "                             opening_name  opening_ply  \n",
       "0        Slav Defense: Exchange Variation            5  \n",
       "1  Nimzowitsch Defense: Kennedy Variation            4  \n",
       "2   King's Pawn Game: Leonardis Variation            3  \n",
       "3  Queen's Pawn Game: Zukertort Variation            3  \n",
       "4                        Philidor Defense            5  "
      ]
     },
     "execution_count": 461,
     "metadata": {},
     "output_type": "execute_result"
    }
   ],
   "source": [
    "df1.head()"
   ]
  },
  {
   "cell_type": "markdown",
   "metadata": {},
   "source": [
    "---"
   ]
  },
  {
   "cell_type": "markdown",
   "metadata": {},
   "source": [
    "## Test 1: Using Original 'opening_name'"
   ]
  },
  {
   "cell_type": "code",
   "execution_count": 610,
   "metadata": {},
   "outputs": [],
   "source": [
    "df1 = df1[df1['winner'] != 'draw']"
   ]
  },
  {
   "cell_type": "code",
   "execution_count": 611,
   "metadata": {},
   "outputs": [],
   "source": [
    "le_opening = preprocessing.LabelEncoder()\n",
    "df1['opening_name'] = le_opening.fit_transform(df1['opening_name'])\n",
    "\n",
    "le_winner = preprocessing.LabelEncoder()\n",
    "df1['winner'] = le_winner.fit_transform(df1['winner'])\n",
    "\n",
    "le_eco = preprocessing.LabelEncoder()\n",
    "df1['opening_eco'] = le_eco.fit_transform(df1['opening_eco'])\n",
    "\n",
    "le_increment = preprocessing.LabelEncoder()\n",
    "df1['increment_code'] = le_increment.fit_transform(df1['increment_code'])\n",
    "\n",
    "le_moves = preprocessing.LabelEncoder()\n",
    "df1['moves'] = le_moves.fit_transform(df1['moves'])"
   ]
  },
  {
   "cell_type": "code",
   "execution_count": 612,
   "metadata": {},
   "outputs": [],
   "source": [
    "df1.drop(['moves'], axis=1, inplace=True)"
   ]
  },
  {
   "cell_type": "markdown",
   "metadata": {},
   "source": [
    "**Evaluating Performance with Random Forest**"
   ]
  },
  {
   "cell_type": "code",
   "execution_count": 613,
   "metadata": {},
   "outputs": [],
   "source": [
    "X1 = df1.drop('winner', axis=1)\n",
    "y1 = df1['winner']\n",
    "\n",
    "X1_train, X1_test, y1_train, y1_test = train_test_split(X1, y1, test_size=0.2, random_state=42)"
   ]
  },
  {
   "cell_type": "code",
   "execution_count": 616,
   "metadata": {},
   "outputs": [
    {
     "name": "stdout",
     "output_type": "stream",
     "text": [
      "Accuracies: [0.66841073 0.66252453 0.64682799 0.6500981  0.66383257 0.65402224\n",
      " 0.66361257 0.65510471 0.66623037 0.65706806]\n",
      "Mean Accuracy: 0.658773186115553\n"
     ]
    }
   ],
   "source": [
    "clf1 = RandomForestClassifier()\n",
    "\n",
    "kfolds_1 = KFold(n_splits=10)\n",
    "scores_1 = cross_val_score(clf1, X1_train, y1_train, cv=kfolds_1)\n",
    "print(\"Accuracies: \" + str(scores_1))\n",
    "print(\"Mean Accuracy: \" + str(scores_1.mean()))"
   ]
  },
  {
   "cell_type": "code",
   "execution_count": 617,
   "metadata": {},
   "outputs": [
    {
     "name": "stdout",
     "output_type": "stream",
     "text": [
      "Train Score: 0.9990841292686118\n",
      "Test Score: 0.6606488749345892\n"
     ]
    }
   ],
   "source": [
    "clf1 = RandomForestClassifier()\n",
    "clf1.fit(X1_train, y1_train)\n",
    "\n",
    "train_accuracy_1 = clf1.score(X1_train, y1_train)\n",
    "print(\"Train Score: \" + str(train_accuracy_1))\n",
    "test_accuracy_1 = clf1.score(X1_test, y1_test)\n",
    "print(\"Test Score: \" + str(test_accuracy_1))\n",
    "\n",
    "y1_pred = clf1.predict(X1_test)"
   ]
  },
  {
   "cell_type": "markdown",
   "metadata": {},
   "source": [
    "## Test 2: Splitting Openings and Variations into Separate Features"
   ]
  },
  {
   "cell_type": "code",
   "execution_count": 618,
   "metadata": {},
   "outputs": [],
   "source": [
    "df2['opening_1'] = df2['opening_name'].str.split(':').str[0]\n",
    "df2['opening_2'] = df2['opening_name'].str.split(':').str[1]\n",
    "df2.drop(['opening_name'], axis=1, inplace=True)"
   ]
  },
  {
   "cell_type": "code",
   "execution_count": 619,
   "metadata": {},
   "outputs": [],
   "source": [
    "df2 = df2[df2['winner'] != 'draw']"
   ]
  },
  {
   "cell_type": "code",
   "execution_count": 620,
   "metadata": {},
   "outputs": [],
   "source": [
    "le_opening_1 = preprocessing.LabelEncoder()\n",
    "df2['opening_1'] = le_opening_1.fit_transform(df2['opening_1'])\n",
    "\n",
    "le_opening_2 = preprocessing.LabelEncoder()\n",
    "df2['opening_2'] = le_opening_2.fit_transform(df2['opening_2'])\n",
    "\n",
    "le_winner = preprocessing.LabelEncoder()\n",
    "df2['winner'] = le_winner.fit_transform(df2['winner'])\n",
    "\n",
    "le_eco = preprocessing.LabelEncoder()\n",
    "df2['opening_eco'] = le_eco.fit_transform(df2['opening_eco'])\n",
    "\n",
    "le_increment = preprocessing.LabelEncoder()\n",
    "df2['increment_code'] = le_increment.fit_transform(df2['increment_code'])\n",
    "\n",
    "le_moves = preprocessing.LabelEncoder()\n",
    "df2['moves'] = le_moves.fit_transform(df2['moves'])"
   ]
  },
  {
   "cell_type": "code",
   "execution_count": 621,
   "metadata": {},
   "outputs": [],
   "source": [
    "df2.drop(['moves'], axis=1, inplace=True)"
   ]
  },
  {
   "cell_type": "markdown",
   "metadata": {},
   "source": [
    "**Evaluating Performance with Random Forest**"
   ]
  },
  {
   "cell_type": "code",
   "execution_count": 622,
   "metadata": {},
   "outputs": [],
   "source": [
    "X2 = df2.drop('winner', axis=1)\n",
    "y2 = df2['winner']\n",
    "\n",
    "X2_train, X2_test, y2_train, y2_test = train_test_split(X2, y2, test_size=0.2, random_state=42)"
   ]
  },
  {
   "cell_type": "code",
   "execution_count": 623,
   "metadata": {},
   "outputs": [
    {
     "name": "stdout",
     "output_type": "stream",
     "text": [
      "Accuracies: [0.6736429  0.66383257 0.63701766 0.64617397 0.64944408 0.66056246\n",
      " 0.66884817 0.65117801 0.65641361 0.65379581]\n",
      "Mean Accuracy: 0.6560909244998099\n"
     ]
    }
   ],
   "source": [
    "clf2 = RandomForestClassifier()\n",
    "\n",
    "kfolds_2 = KFold(n_splits=10)\n",
    "scores_2 = cross_val_score(clf2, X2_train, y2_train, cv=kfolds_2)\n",
    "print(\"Accuracies: \" + str(scores_2))\n",
    "print(\"Mean Accuracy: \" + str(scores_2.mean()))"
   ]
  },
  {
   "cell_type": "code",
   "execution_count": 624,
   "metadata": {},
   "outputs": [
    {
     "name": "stdout",
     "output_type": "stream",
     "text": [
      "Train Score: 0.9990841292686118\n",
      "Test Score: 0.6564625850340136\n"
     ]
    }
   ],
   "source": [
    "clf2 = RandomForestClassifier()\n",
    "clf2.fit(X2_train, y2_train)\n",
    "\n",
    "train_accuracy_2 = clf2.score(X2_train, y2_train)\n",
    "print(\"Train Score: \" + str(train_accuracy_2))\n",
    "test_accuracy_2 = clf2.score(X2_test, y2_test)\n",
    "print(\"Test Score: \" + str(test_accuracy_2))\n",
    "\n",
    "y2_pred = clf2.predict(X2_test)"
   ]
  },
  {
   "cell_type": "code",
   "execution_count": null,
   "metadata": {},
   "outputs": [],
   "source": []
  },
  {
   "cell_type": "markdown",
   "metadata": {},
   "source": [
    "## Test 3: Creating Features for Opening Moves"
   ]
  },
  {
   "cell_type": "code",
   "execution_count": 625,
   "metadata": {},
   "outputs": [],
   "source": [
    "df3 = df3[df3['winner'] != 'draw']"
   ]
  },
  {
   "cell_type": "code",
   "execution_count": 626,
   "metadata": {},
   "outputs": [],
   "source": [
    "# convert df3 to a list, keep only first 10 values\n",
    "df3['opening_moves'] = df3['moves'].str.split(' ').str[:10]\n",
    "\n",
    "# reduce opening_moves to only contain moves in opening strategy, fill remaining values with NaN\n",
    "def reduce_moves(row):\n",
    "    if row['opening_ply'] > 10:\n",
    "        row['opening_ply'] = 10\n",
    "\n",
    "    if row['opening_ply'] < 10:\n",
    "        row['opening_moves'] = row['opening_moves'][:row['opening_ply']] + ([np.nan] * (10 - row['opening_ply']))\n",
    "    return row\n",
    "\n",
    "df3 = df3.apply(reduce_moves, axis=1)"
   ]
  },
  {
   "cell_type": "code",
   "execution_count": 627,
   "metadata": {},
   "outputs": [],
   "source": [
    "df3['move1_w'] = df3['opening_moves'].str[0]\n",
    "df3['move1_b'] = df3['opening_moves'].str[1]\n",
    "df3['move2_w'] = df3['opening_moves'].str[2]\n",
    "df3['move2_b'] = df3['opening_moves'].str[3]\n",
    "df3['move3_w'] = df3['opening_moves'].str[4]\n",
    "df3['move3_b'] = df3['opening_moves'].str[5]\n",
    "df3['move4_w'] = df3['opening_moves'].str[6]\n",
    "df3['move4_b'] = df3['opening_moves'].str[7]\n",
    "df3['move5_w'] = df3['opening_moves'].str[8]\n",
    "df3['move5_b'] = df3['opening_moves'].str[9]"
   ]
  },
  {
   "cell_type": "code",
   "execution_count": 628,
   "metadata": {},
   "outputs": [],
   "source": [
    "le_opening = preprocessing.LabelEncoder()\n",
    "df3['opening_name'] = le_opening.fit_transform(df3['opening_name'])\n",
    "\n",
    "le_winner = preprocessing.LabelEncoder()\n",
    "df3['winner'] = le_winner.fit_transform(df3['winner'])\n",
    "\n",
    "le_eco = preprocessing.LabelEncoder()\n",
    "df3['opening_eco'] = le_eco.fit_transform(df3['opening_eco'])\n",
    "\n",
    "le_increment = preprocessing.LabelEncoder()\n",
    "df3['increment_code'] = le_increment.fit_transform(df3['increment_code'])\n",
    "\n",
    "le_moves = preprocessing.LabelEncoder()\n",
    "df3['moves'] = le_moves.fit_transform(df3['moves'])\n",
    "\n",
    "le_moves_spec = preprocessing.LabelEncoder()\n",
    "df3['move1_w'] = le_moves_spec.fit_transform(df3['move1_w'])\n",
    "df3['move1_b'] = le_moves_spec.fit_transform(df3['move1_b'])\n",
    "df3['move2_w'] = le_moves_spec.fit_transform(df3['move2_w'])\n",
    "df3['move2_b'] = le_moves_spec.fit_transform(df3['move2_b'])\n",
    "df3['move3_w'] = le_moves_spec.fit_transform(df3['move3_w'])\n",
    "df3['move3_b'] = le_moves_spec.fit_transform(df3['move3_b'])\n",
    "df3['move4_w'] = le_moves_spec.fit_transform(df3['move4_w'])\n",
    "df3['move4_b'] = le_moves_spec.fit_transform(df3['move4_b'])\n",
    "df3['move5_w'] = le_moves_spec.fit_transform(df3['move5_w'])\n",
    "df3['move5_b'] = le_moves_spec.fit_transform(df3['move5_b'])"
   ]
  },
  {
   "cell_type": "code",
   "execution_count": 629,
   "metadata": {},
   "outputs": [],
   "source": [
    "df3.drop(['moves'], axis=1, inplace=True)\n",
    "df3.drop(['opening_moves'], axis=1, inplace=True)"
   ]
  },
  {
   "cell_type": "markdown",
   "metadata": {},
   "source": [
    "**Evaluating Performance with Random Forest**"
   ]
  },
  {
   "cell_type": "code",
   "execution_count": 630,
   "metadata": {},
   "outputs": [],
   "source": [
    "X3 = df3.drop('winner', axis=1)\n",
    "y3 = df3['winner']\n",
    "\n",
    "X3_train, X3_test, y3_train, y3_test = train_test_split(X3, y3, test_size=0.2, random_state=42)"
   ]
  },
  {
   "cell_type": "code",
   "execution_count": 631,
   "metadata": {},
   "outputs": [
    {
     "name": "stdout",
     "output_type": "stream",
     "text": [
      "Accuracies: [0.65990844 0.67168084 0.63505559 0.64748201 0.65336821 0.63963375\n",
      " 0.66426702 0.64856021 0.67081152 0.66099476]\n",
      "Mean Accuracy: 0.6551762350234043\n"
     ]
    }
   ],
   "source": [
    "clf3 = RandomForestClassifier()\n",
    "\n",
    "kfolds_3 = KFold(n_splits=10)\n",
    "scores_3 = cross_val_score(clf3, X3_train, y3_train, cv=kfolds_3)\n",
    "print(\"Accuracies: \" + str(scores_3))\n",
    "print(\"Mean Accuracy: \" + str(scores_3.mean()))"
   ]
  },
  {
   "cell_type": "code",
   "execution_count": 632,
   "metadata": {},
   "outputs": [
    {
     "name": "stdout",
     "output_type": "stream",
     "text": [
      "Train Score: 0.9990841292686118\n",
      "Test Score: 0.6614338042909471\n"
     ]
    }
   ],
   "source": [
    "clf3 = RandomForestClassifier()\n",
    "clf3.fit(X3_train, y3_train)\n",
    "\n",
    "train_accuracy_3 = clf3.score(X3_train, y3_train)\n",
    "print(\"Train Score: \" + str(train_accuracy_3))\n",
    "test_accuracy_3 = clf3.score(X3_test, y3_test)\n",
    "print(\"Test Score: \" + str(test_accuracy_3))\n",
    "\n",
    "y3_pred = clf3.predict(X3_test)"
   ]
  },
  {
   "cell_type": "markdown",
   "metadata": {},
   "source": [
    "## Test 4: Creating Difference of White/Black Rating"
   ]
  },
  {
   "cell_type": "code",
   "execution_count": 633,
   "metadata": {},
   "outputs": [],
   "source": [
    "df4 = df4[df4['winner'] != 'draw']"
   ]
  },
  {
   "cell_type": "code",
   "execution_count": 634,
   "metadata": {},
   "outputs": [],
   "source": [
    "df4['perf_comp'] = df4['black_rating'] - df4['white_rating']\n",
    "\n",
    "# df4.drop(['black_rating'], axis=1, inplace=True)\n",
    "# df4.drop(['white_rating'], axis=1, inplace=True)"
   ]
  },
  {
   "cell_type": "code",
   "execution_count": 635,
   "metadata": {},
   "outputs": [],
   "source": [
    "le_opening = preprocessing.LabelEncoder()\n",
    "df4['opening_name'] = le_opening.fit_transform(df4['opening_name'])\n",
    "\n",
    "le_winner = preprocessing.LabelEncoder()\n",
    "df4['winner'] = le_winner.fit_transform(df4['winner'])\n",
    "\n",
    "le_eco = preprocessing.LabelEncoder()\n",
    "df4['opening_eco'] = le_eco.fit_transform(df4['opening_eco'])\n",
    "\n",
    "le_increment = preprocessing.LabelEncoder()\n",
    "df4['increment_code'] = le_increment.fit_transform(df4['increment_code'])\n",
    "\n",
    "le_moves = preprocessing.LabelEncoder()\n",
    "df4['moves'] = le_moves.fit_transform(df4['moves'])"
   ]
  },
  {
   "cell_type": "code",
   "execution_count": 636,
   "metadata": {},
   "outputs": [],
   "source": [
    "df4.drop(['moves'], axis=1, inplace=True)"
   ]
  },
  {
   "cell_type": "markdown",
   "metadata": {},
   "source": [
    "**Evaluating Performance with Random Forest**"
   ]
  },
  {
   "cell_type": "code",
   "execution_count": 637,
   "metadata": {},
   "outputs": [],
   "source": [
    "X4 = df4.drop('winner', axis=1)\n",
    "y4 = df4['winner']\n",
    "\n",
    "X4_train, X4_test, y4_train, y4_test = train_test_split(X4, y4, test_size=0.2, random_state=42)"
   ]
  },
  {
   "cell_type": "code",
   "execution_count": 638,
   "metadata": {},
   "outputs": [
    {
     "name": "stdout",
     "output_type": "stream",
     "text": [
      "Accuracies: [0.66579464 0.64944408 0.66056246 0.64355788 0.65140615 0.65533028\n",
      " 0.66623037 0.65706806 0.67539267 0.66819372]\n",
      "Mean Accuracy: 0.6592980304000493\n"
     ]
    }
   ],
   "source": [
    "clf4 = RandomForestClassifier()\n",
    "\n",
    "kfolds_4 = KFold(n_splits=10)\n",
    "scores_4 = cross_val_score(clf4, X4_train, y4_train, cv=kfolds_4)\n",
    "print(\"Accuracies: \" + str(scores_4))\n",
    "print(\"Mean Accuracy: \" + str(scores_4.mean()))"
   ]
  },
  {
   "cell_type": "code",
   "execution_count": 639,
   "metadata": {},
   "outputs": [
    {
     "name": "stdout",
     "output_type": "stream",
     "text": [
      "Train Score: 0.9990841292686118\n",
      "Test Score: 0.6564625850340136\n"
     ]
    }
   ],
   "source": [
    "clf4 = RandomForestClassifier()\n",
    "clf4.fit(X4_train, y4_train)\n",
    "\n",
    "train_accuracy_4 = clf4.score(X4_train, y4_train)\n",
    "print(\"Train Score: \" + str(train_accuracy_4))\n",
    "test_accuracy_4 = clf4.score(X4_test, y4_test)\n",
    "print(\"Test Score: \" + str(test_accuracy_4))\n",
    "\n",
    "y4_pred = clf4.predict(X4_test)"
   ]
  },
  {
   "cell_type": "markdown",
   "metadata": {},
   "source": [
    "## Test 5: Find Percent of wins for Black using each opening move"
   ]
  },
  {
   "cell_type": "code",
   "execution_count": 554,
   "metadata": {},
   "outputs": [],
   "source": [
    "df5 = df5[df5['winner'] != 'draw']"
   ]
  },
  {
   "cell_type": "code",
   "execution_count": 555,
   "metadata": {},
   "outputs": [],
   "source": [
    "le_winner = preprocessing.LabelEncoder()\n",
    "df5['winner'] = le_winner.fit_transform(df5['winner'])\n",
    "\n",
    "def switch_encode(winner):\n",
    "    if winner == 1:\n",
    "        return 0\n",
    "    else:\n",
    "        return 1\n",
    "\n",
    "df5['winner'] = df5['winner'].apply(switch_encode)"
   ]
  },
  {
   "cell_type": "code",
   "execution_count": 464,
   "metadata": {},
   "outputs": [
    {
     "data": {
      "text/html": [
       "<div>\n",
       "<style scoped>\n",
       "    .dataframe tbody tr th:only-of-type {\n",
       "        vertical-align: middle;\n",
       "    }\n",
       "\n",
       "    .dataframe tbody tr th {\n",
       "        vertical-align: top;\n",
       "    }\n",
       "\n",
       "    .dataframe thead th {\n",
       "        text-align: right;\n",
       "    }\n",
       "</style>\n",
       "<table border=\"1\" class=\"dataframe\">\n",
       "  <thead>\n",
       "    <tr style=\"text-align: right;\">\n",
       "      <th></th>\n",
       "      <th>rated</th>\n",
       "      <th>winner</th>\n",
       "      <th>increment_code</th>\n",
       "      <th>white_rating</th>\n",
       "      <th>black_rating</th>\n",
       "      <th>moves</th>\n",
       "      <th>opening_eco</th>\n",
       "      <th>opening_name</th>\n",
       "      <th>opening_ply</th>\n",
       "      <th>black_opening_win_pct</th>\n",
       "    </tr>\n",
       "  </thead>\n",
       "  <tbody>\n",
       "    <tr>\n",
       "      <th>0</th>\n",
       "      <td>False</td>\n",
       "      <td>0</td>\n",
       "      <td>15+2</td>\n",
       "      <td>1500</td>\n",
       "      <td>1191</td>\n",
       "      <td>d4 d5 c4 c6 cxd5 e6 dxe6 fxe6 Nf3 Bb4+ Nc3 Ba5...</td>\n",
       "      <td>D10</td>\n",
       "      <td>Slav Defense: Exchange Variation</td>\n",
       "      <td>5</td>\n",
       "      <td>0.666667</td>\n",
       "    </tr>\n",
       "    <tr>\n",
       "      <th>1</th>\n",
       "      <td>True</td>\n",
       "      <td>1</td>\n",
       "      <td>5+10</td>\n",
       "      <td>1322</td>\n",
       "      <td>1261</td>\n",
       "      <td>d4 Nc6 e4 e5 f4 f6 dxe5 fxe5 fxe5 Nxe5 Qd4 Nc6...</td>\n",
       "      <td>B00</td>\n",
       "      <td>Nimzowitsch Defense: Kennedy Variation</td>\n",
       "      <td>4</td>\n",
       "      <td>0.250000</td>\n",
       "    </tr>\n",
       "    <tr>\n",
       "      <th>2</th>\n",
       "      <td>True</td>\n",
       "      <td>0</td>\n",
       "      <td>5+10</td>\n",
       "      <td>1496</td>\n",
       "      <td>1500</td>\n",
       "      <td>e4 e5 d3 d6 Be3 c6 Be2 b5 Nd2 a5 a4 c5 axb5 Nc...</td>\n",
       "      <td>C20</td>\n",
       "      <td>King's Pawn Game: Leonardis Variation</td>\n",
       "      <td>3</td>\n",
       "      <td>0.557047</td>\n",
       "    </tr>\n",
       "    <tr>\n",
       "      <th>3</th>\n",
       "      <td>True</td>\n",
       "      <td>0</td>\n",
       "      <td>20+0</td>\n",
       "      <td>1439</td>\n",
       "      <td>1454</td>\n",
       "      <td>d4 d5 Nf3 Bf5 Nc3 Nf6 Bf4 Ng4 e3 Nc6 Be2 Qd7 O...</td>\n",
       "      <td>D02</td>\n",
       "      <td>Queen's Pawn Game: Zukertort Variation</td>\n",
       "      <td>3</td>\n",
       "      <td>0.415094</td>\n",
       "    </tr>\n",
       "    <tr>\n",
       "      <th>4</th>\n",
       "      <td>True</td>\n",
       "      <td>0</td>\n",
       "      <td>30+3</td>\n",
       "      <td>1523</td>\n",
       "      <td>1469</td>\n",
       "      <td>e4 e5 Nf3 d6 d4 Nc6 d5 Nb4 a3 Na6 Nc3 Be7 b4 N...</td>\n",
       "      <td>C41</td>\n",
       "      <td>Philidor Defense</td>\n",
       "      <td>5</td>\n",
       "      <td>0.336000</td>\n",
       "    </tr>\n",
       "  </tbody>\n",
       "</table>\n",
       "</div>"
      ],
      "text/plain": [
       "   rated  winner increment_code  white_rating  black_rating  \\\n",
       "0  False       0           15+2          1500          1191   \n",
       "1   True       1           5+10          1322          1261   \n",
       "2   True       0           5+10          1496          1500   \n",
       "3   True       0           20+0          1439          1454   \n",
       "4   True       0           30+3          1523          1469   \n",
       "\n",
       "                                               moves opening_eco  \\\n",
       "0  d4 d5 c4 c6 cxd5 e6 dxe6 fxe6 Nf3 Bb4+ Nc3 Ba5...         D10   \n",
       "1  d4 Nc6 e4 e5 f4 f6 dxe5 fxe5 fxe5 Nxe5 Qd4 Nc6...         B00   \n",
       "2  e4 e5 d3 d6 Be3 c6 Be2 b5 Nd2 a5 a4 c5 axb5 Nc...         C20   \n",
       "3  d4 d5 Nf3 Bf5 Nc3 Nf6 Bf4 Ng4 e3 Nc6 Be2 Qd7 O...         D02   \n",
       "4  e4 e5 Nf3 d6 d4 Nc6 d5 Nb4 a3 Na6 Nc3 Be7 b4 N...         C41   \n",
       "\n",
       "                             opening_name  opening_ply  black_opening_win_pct  \n",
       "0        Slav Defense: Exchange Variation            5               0.666667  \n",
       "1  Nimzowitsch Defense: Kennedy Variation            4               0.250000  \n",
       "2   King's Pawn Game: Leonardis Variation            3               0.557047  \n",
       "3  Queen's Pawn Game: Zukertort Variation            3               0.415094  \n",
       "4                        Philidor Defense            5               0.336000  "
      ]
     },
     "execution_count": 464,
     "metadata": {},
     "output_type": "execute_result"
    }
   ],
   "source": [
    "# df5['black_opening_win_pct'] = df5.groupby('opening_name')['winner'].transform('mean')\n",
    "\n",
    "# df5['black_favored'] = df5['black_opening_win_pct'] >= 0.5\n",
    "# df5.drop(['black_opening_win_pct'], axis=1, inplace=True)\n",
    "\n",
    "# # adjust for data leakage:\n",
    "# df5['count'] = 1\n",
    "# df5['black_opening_win_sum'] = df5.groupby('opening_name')['winner'].transform('sum')\n",
    "# df5['num_openings'] = df5.groupby('opening_name')['count'].transform('sum')\n",
    "# df5.drop(['count'], axis=1, inplace=True)\n",
    "\n",
    "\n",
    "# df5['black_opening_win_sum'] = df5['black_opening_win_sum'].astype(int) - df5['winner']\n",
    "# df5['num_openings'] = df5['num_openings'] - 1\n",
    "\n",
    "# # print(df5[df5['num_openings'] == 0]['black_opening_win_sum'].value_counts())\n",
    "# df5.loc[df5['num_openings'] == 0, 'num_openings'] = 1\n",
    "\n",
    "# df5['black_opening_win_pct'] = df5['black_opening_win_sum'] / df5['num_openings']\n",
    "\n",
    "# df5.drop(['black_opening_win_sum', 'num_openings'], axis=1, inplace=True)\n",
    "\n",
    "# df5.head()"
   ]
  },
  {
   "cell_type": "code",
   "execution_count": 556,
   "metadata": {},
   "outputs": [],
   "source": [
    "le_opening = preprocessing.LabelEncoder()\n",
    "df5['opening_name'] = le_opening.fit_transform(df5['opening_name'])\n",
    "\n",
    "# le_winner = preprocessing.LabelEncoder()\n",
    "# df5['winner'] = le_winner.fit_transform(df5['winner'])\n",
    "\n",
    "le_eco = preprocessing.LabelEncoder()\n",
    "df5['opening_eco'] = le_eco.fit_transform(df5['opening_eco'])\n",
    "\n",
    "le_increment = preprocessing.LabelEncoder()\n",
    "df5['increment_code'] = le_increment.fit_transform(df5['increment_code'])\n",
    "\n",
    "le_moves = preprocessing.LabelEncoder()\n",
    "df5['moves'] = le_moves.fit_transform(df5['moves'])"
   ]
  },
  {
   "cell_type": "code",
   "execution_count": 557,
   "metadata": {},
   "outputs": [],
   "source": [
    "df5.drop(['moves'], axis=1, inplace=True)"
   ]
  },
  {
   "cell_type": "code",
   "execution_count": 565,
   "metadata": {},
   "outputs": [],
   "source": [
    "df5['temp_winner'] = df5['winner']"
   ]
  },
  {
   "cell_type": "markdown",
   "metadata": {},
   "source": [
    "**Evaluating Performance with Random Forest**"
   ]
  },
  {
   "cell_type": "code",
   "execution_count": 566,
   "metadata": {},
   "outputs": [],
   "source": [
    "X5 = df5.drop('winner', axis=1)\n",
    "y5 = df5['winner']\n",
    "\n",
    "X5_train, X5_test, y5_train, y5_test = train_test_split(X5, y5, test_size=0.2, random_state=42)"
   ]
  },
  {
   "cell_type": "code",
   "execution_count": 567,
   "metadata": {},
   "outputs": [
    {
     "name": "stdout",
     "output_type": "stream",
     "text": [
      "       rated  increment_code  white_rating  black_rating  opening_eco  \\\n",
      "7675    True             310          1941          1687           72   \n",
      "16751   True             373          1283          1182           52   \n",
      "12897   True             102          1999          1988          311   \n",
      "5645   False             344          1884          1670          324   \n",
      "19715   True             104          2041          2035          203   \n",
      "...      ...             ...           ...           ...          ...   \n",
      "1567    True              37          1500          1758           73   \n",
      "11263   True             108          1557          1614          187   \n",
      "5966    True             316          1894          1938           70   \n",
      "4404    True              19          1909          1887           85   \n",
      "1136    True              19          1903          1648          209   \n",
      "\n",
      "       opening_name  opening_ply  black_opening_win_pct  \n",
      "7675             18            6                    0.0  \n",
      "16751            53            6                    0.0  \n",
      "12897           940           10                    0.0  \n",
      "5645            707            7                    0.0  \n",
      "19715           492           19                    0.0  \n",
      "...             ...          ...                    ...  \n",
      "1567              6            9                    0.0  \n",
      "11263           548            9                    0.0  \n",
      "5966            745            5                    0.0  \n",
      "4404            149           10                    0.0  \n",
      "1136           1102            6                    0.0  \n",
      "\n",
      "[119 rows x 8 columns]\n"
     ]
    }
   ],
   "source": [
    "# Applying after test_train_split to avoid data leakage\n",
    "\n",
    "X5_train['black_opening_win_pct'] = X5_train.groupby('opening_name')['temp_winner'].transform('mean')\n",
    "\n",
    "# # Apply percentages from training to testing\n",
    "avg_black_win = np.mean(X5_train['black_opening_win_pct'])\n",
    "\n",
    "X5_test['black_opening_win_pct'] = np.nan\n",
    "\n",
    "def add_win_pct(row):\n",
    "    try:\n",
    "        row['black_opening_win_pct'] = X5_train[X5_train['opening_name'] == row['opening_name']]['black_opening_win_pct'].iloc[0]\n",
    "    except:\n",
    "        if row['opening_name'] in X5_train['opening_name'].unique():\n",
    "            row['black_opening_win_pct'] = 0\n",
    "        else:\n",
    "            row['black_opening_win_pct'] = avg_black_win\n",
    "\n",
    "    return row\n",
    "\n",
    "X5_test = X5_test.apply(add_win_pct, axis=1)\n",
    "\n",
    "X5_train.drop(['temp_winner'], axis=1, inplace=True)\n",
    "X5_test.drop(['temp_winner'], axis=1, inplace=True)\n",
    "\n",
    "print(X5_test[X5_test['black_opening_win_pct'] == 0])"
   ]
  },
  {
   "cell_type": "code",
   "execution_count": 568,
   "metadata": {},
   "outputs": [
    {
     "name": "stdout",
     "output_type": "stream",
     "text": [
      "Accuracies: [0.68868542 0.68214519 0.66971877 0.67691302 0.68149117 0.68149117\n",
      " 0.70942408 0.67212042 0.69568063 0.67801047]\n",
      "Mean Accuracy: 0.6835680337215234\n"
     ]
    }
   ],
   "source": [
    "clf5 = RandomForestClassifier()\n",
    "\n",
    "kfolds_5 = KFold(n_splits=10)\n",
    "scores_5 = cross_val_score(clf5, X5_train, y5_train, cv=kfolds_5)\n",
    "print(\"Accuracies: \" + str(scores_5))\n",
    "print(\"Mean Accuracy: \" + str(scores_5.mean()))"
   ]
  },
  {
   "cell_type": "code",
   "execution_count": 569,
   "metadata": {},
   "outputs": [
    {
     "name": "stdout",
     "output_type": "stream",
     "text": [
      "Train Score: 0.9990841292686118\n",
      "Test Score: 0.6467817896389325\n"
     ]
    }
   ],
   "source": [
    "clf5 = RandomForestClassifier()\n",
    "clf5.fit(X5_train, y5_train)\n",
    "\n",
    "train_accuracy_5 = clf5.score(X5_train, y5_train)\n",
    "print(\"Train Score: \" + str(train_accuracy_5))\n",
    "test_accuracy_5 = clf5.score(X5_test, y5_test)\n",
    "print(\"Test Score: \" + str(test_accuracy_5))\n",
    "\n",
    "y5_pred = clf5.predict(X5_test)"
   ]
  },
  {
   "cell_type": "markdown",
   "metadata": {},
   "source": [
    "## Test 6: Adding win percentages from other dataset"
   ]
  },
  {
   "cell_type": "code",
   "execution_count": 598,
   "metadata": {},
   "outputs": [
    {
     "name": "stdout",
     "output_type": "stream",
     "text": [
      "Index(['opening_name', 'side', 'num_games', 'ECO', 'last_played_date',\n",
      "       'perf_rating', 'avg_player', 'perc_player_win', 'perc_draw',\n",
      "       'pec_opponent_win', 'moves_list', 'move1w', 'move1b', 'move2w',\n",
      "       'move2b', 'move3w', 'move3b', 'move4w', 'move4b', 'perc_white_win',\n",
      "       'perc_black_win', 'white_odds', 'white_wins', 'black_wins'],\n",
      "      dtype='object')\n"
     ]
    }
   ],
   "source": [
    "summaries = pd.read_csv('data/high_elo_opening.csv')\n",
    "print(summaries.columns)"
   ]
  },
  {
   "cell_type": "code",
   "execution_count": 600,
   "metadata": {},
   "outputs": [
    {
     "data": {
      "text/html": [
       "<div>\n",
       "<style scoped>\n",
       "    .dataframe tbody tr th:only-of-type {\n",
       "        vertical-align: middle;\n",
       "    }\n",
       "\n",
       "    .dataframe tbody tr th {\n",
       "        vertical-align: top;\n",
       "    }\n",
       "\n",
       "    .dataframe thead th {\n",
       "        text-align: right;\n",
       "    }\n",
       "</style>\n",
       "<table border=\"1\" class=\"dataframe\">\n",
       "  <thead>\n",
       "    <tr style=\"text-align: right;\">\n",
       "      <th></th>\n",
       "      <th>opening_name</th>\n",
       "      <th>side</th>\n",
       "      <th>num_games</th>\n",
       "      <th>ECO</th>\n",
       "      <th>last_played_date</th>\n",
       "      <th>perf_rating</th>\n",
       "      <th>avg_player</th>\n",
       "      <th>perc_player_win</th>\n",
       "      <th>perc_draw</th>\n",
       "      <th>pec_opponent_win</th>\n",
       "      <th>...</th>\n",
       "      <th>move2b</th>\n",
       "      <th>move3w</th>\n",
       "      <th>move3b</th>\n",
       "      <th>move4w</th>\n",
       "      <th>move4b</th>\n",
       "      <th>perc_white_win</th>\n",
       "      <th>perc_black_win</th>\n",
       "      <th>white_odds</th>\n",
       "      <th>white_wins</th>\n",
       "      <th>black_wins</th>\n",
       "    </tr>\n",
       "  </thead>\n",
       "  <tbody>\n",
       "    <tr>\n",
       "      <th>0</th>\n",
       "      <td>Alekhine Defense</td>\n",
       "      <td>white</td>\n",
       "      <td>692</td>\n",
       "      <td>B03</td>\n",
       "      <td>2018-06-22</td>\n",
       "      <td>2247</td>\n",
       "      <td>2225</td>\n",
       "      <td>40.8</td>\n",
       "      <td>24.3</td>\n",
       "      <td>35.0</td>\n",
       "      <td>...</td>\n",
       "      <td>Nd5</td>\n",
       "      <td>d4</td>\n",
       "      <td>d6</td>\n",
       "      <td>Bc4</td>\n",
       "      <td>NaN</td>\n",
       "      <td>40.8</td>\n",
       "      <td>33.977778</td>\n",
       "      <td>1.165714</td>\n",
       "      <td>282.336</td>\n",
       "      <td>242.200</td>\n",
       "    </tr>\n",
       "    <tr>\n",
       "      <th>1</th>\n",
       "      <td>Alekhine Defense</td>\n",
       "      <td>black</td>\n",
       "      <td>228</td>\n",
       "      <td>B02</td>\n",
       "      <td>2018-06-27</td>\n",
       "      <td>2145</td>\n",
       "      <td>2193</td>\n",
       "      <td>29.8</td>\n",
       "      <td>22.4</td>\n",
       "      <td>47.8</td>\n",
       "      <td>...</td>\n",
       "      <td>Ng8</td>\n",
       "      <td>NaN</td>\n",
       "      <td>NaN</td>\n",
       "      <td>NaN</td>\n",
       "      <td>NaN</td>\n",
       "      <td>47.8</td>\n",
       "      <td>33.977778</td>\n",
       "      <td>1.604027</td>\n",
       "      <td>108.984</td>\n",
       "      <td>67.944</td>\n",
       "    </tr>\n",
       "    <tr>\n",
       "      <th>2</th>\n",
       "      <td>Alekhine Defense</td>\n",
       "      <td>white</td>\n",
       "      <td>6485</td>\n",
       "      <td>B03</td>\n",
       "      <td>2018-07-06</td>\n",
       "      <td>2244</td>\n",
       "      <td>2194</td>\n",
       "      <td>40.8</td>\n",
       "      <td>27.7</td>\n",
       "      <td>31.5</td>\n",
       "      <td>...</td>\n",
       "      <td>Nd5</td>\n",
       "      <td>d4</td>\n",
       "      <td>d6</td>\n",
       "      <td>c4</td>\n",
       "      <td>Nb6</td>\n",
       "      <td>40.8</td>\n",
       "      <td>33.977778</td>\n",
       "      <td>1.295238</td>\n",
       "      <td>2645.880</td>\n",
       "      <td>2042.775</td>\n",
       "    </tr>\n",
       "    <tr>\n",
       "      <th>3</th>\n",
       "      <td>Alekhine Defense</td>\n",
       "      <td>white</td>\n",
       "      <td>881</td>\n",
       "      <td>B03</td>\n",
       "      <td>2018-06-20</td>\n",
       "      <td>2187</td>\n",
       "      <td>2130</td>\n",
       "      <td>39.7</td>\n",
       "      <td>23.2</td>\n",
       "      <td>37.1</td>\n",
       "      <td>...</td>\n",
       "      <td>Nd5</td>\n",
       "      <td>d4</td>\n",
       "      <td>d6</td>\n",
       "      <td>c4</td>\n",
       "      <td>Nb6</td>\n",
       "      <td>39.7</td>\n",
       "      <td>33.977778</td>\n",
       "      <td>1.070081</td>\n",
       "      <td>349.757</td>\n",
       "      <td>326.851</td>\n",
       "    </tr>\n",
       "    <tr>\n",
       "      <th>4</th>\n",
       "      <td>Alekhine Defense</td>\n",
       "      <td>black</td>\n",
       "      <td>259</td>\n",
       "      <td>B03</td>\n",
       "      <td>2018-05-20</td>\n",
       "      <td>2122</td>\n",
       "      <td>2178</td>\n",
       "      <td>37.8</td>\n",
       "      <td>21.2</td>\n",
       "      <td>40.9</td>\n",
       "      <td>...</td>\n",
       "      <td>Nd5</td>\n",
       "      <td>d4</td>\n",
       "      <td>d6</td>\n",
       "      <td>c4</td>\n",
       "      <td>Nb6</td>\n",
       "      <td>40.9</td>\n",
       "      <td>33.977778</td>\n",
       "      <td>1.082011</td>\n",
       "      <td>105.931</td>\n",
       "      <td>97.902</td>\n",
       "    </tr>\n",
       "  </tbody>\n",
       "</table>\n",
       "<p>5 rows × 24 columns</p>\n",
       "</div>"
      ],
      "text/plain": [
       "       opening_name   side  num_games  ECO last_played_date  perf_rating  \\\n",
       "0  Alekhine Defense  white        692  B03       2018-06-22         2247   \n",
       "1  Alekhine Defense  black        228  B02       2018-06-27         2145   \n",
       "2  Alekhine Defense  white       6485  B03       2018-07-06         2244   \n",
       "3  Alekhine Defense  white        881  B03       2018-06-20         2187   \n",
       "4  Alekhine Defense  black        259  B03       2018-05-20         2122   \n",
       "\n",
       "   avg_player  perc_player_win  perc_draw  pec_opponent_win  ... move2b  \\\n",
       "0        2225             40.8       24.3              35.0  ...    Nd5   \n",
       "1        2193             29.8       22.4              47.8  ...    Ng8   \n",
       "2        2194             40.8       27.7              31.5  ...    Nd5   \n",
       "3        2130             39.7       23.2              37.1  ...    Nd5   \n",
       "4        2178             37.8       21.2              40.9  ...    Nd5   \n",
       "\n",
       "  move3w move3b move4w move4b perc_white_win perc_black_win white_odds  \\\n",
       "0     d4     d6    Bc4    NaN           40.8      33.977778   1.165714   \n",
       "1    NaN    NaN    NaN    NaN           47.8      33.977778   1.604027   \n",
       "2     d4     d6     c4    Nb6           40.8      33.977778   1.295238   \n",
       "3     d4     d6     c4    Nb6           39.7      33.977778   1.070081   \n",
       "4     d4     d6     c4    Nb6           40.9      33.977778   1.082011   \n",
       "\n",
       "  white_wins  black_wins  \n",
       "0    282.336     242.200  \n",
       "1    108.984      67.944  \n",
       "2   2645.880    2042.775  \n",
       "3    349.757     326.851  \n",
       "4    105.931      97.902  \n",
       "\n",
       "[5 rows x 24 columns]"
      ]
     },
     "execution_count": 600,
     "metadata": {},
     "output_type": "execute_result"
    }
   ],
   "source": [
    "summaries['opening_name'] = summaries['opening_name'].str.split(',').str[0]\n",
    "summaries['perc_black_win'] = summaries.groupby('opening_name')['perc_black_win'].transform('mean')\n",
    "summaries.head()"
   ]
  },
  {
   "cell_type": "code",
   "execution_count": 601,
   "metadata": {},
   "outputs": [
    {
     "data": {
      "text/html": [
       "<div>\n",
       "<style scoped>\n",
       "    .dataframe tbody tr th:only-of-type {\n",
       "        vertical-align: middle;\n",
       "    }\n",
       "\n",
       "    .dataframe tbody tr th {\n",
       "        vertical-align: top;\n",
       "    }\n",
       "\n",
       "    .dataframe thead th {\n",
       "        text-align: right;\n",
       "    }\n",
       "</style>\n",
       "<table border=\"1\" class=\"dataframe\">\n",
       "  <thead>\n",
       "    <tr style=\"text-align: right;\">\n",
       "      <th></th>\n",
       "      <th>rated</th>\n",
       "      <th>winner</th>\n",
       "      <th>increment_code</th>\n",
       "      <th>white_rating</th>\n",
       "      <th>black_rating</th>\n",
       "      <th>moves</th>\n",
       "      <th>opening_eco</th>\n",
       "      <th>opening_name</th>\n",
       "      <th>opening_ply</th>\n",
       "    </tr>\n",
       "  </thead>\n",
       "  <tbody>\n",
       "    <tr>\n",
       "      <th>0</th>\n",
       "      <td>False</td>\n",
       "      <td>white</td>\n",
       "      <td>15+2</td>\n",
       "      <td>1500</td>\n",
       "      <td>1191</td>\n",
       "      <td>d4 d5 c4 c6 cxd5 e6 dxe6 fxe6 Nf3 Bb4+ Nc3 Ba5...</td>\n",
       "      <td>D10</td>\n",
       "      <td>Slav Defense</td>\n",
       "      <td>5</td>\n",
       "    </tr>\n",
       "    <tr>\n",
       "      <th>1</th>\n",
       "      <td>True</td>\n",
       "      <td>black</td>\n",
       "      <td>5+10</td>\n",
       "      <td>1322</td>\n",
       "      <td>1261</td>\n",
       "      <td>d4 Nc6 e4 e5 f4 f6 dxe5 fxe5 fxe5 Nxe5 Qd4 Nc6...</td>\n",
       "      <td>B00</td>\n",
       "      <td>Nimzowitsch Defense</td>\n",
       "      <td>4</td>\n",
       "    </tr>\n",
       "    <tr>\n",
       "      <th>2</th>\n",
       "      <td>True</td>\n",
       "      <td>white</td>\n",
       "      <td>5+10</td>\n",
       "      <td>1496</td>\n",
       "      <td>1500</td>\n",
       "      <td>e4 e5 d3 d6 Be3 c6 Be2 b5 Nd2 a5 a4 c5 axb5 Nc...</td>\n",
       "      <td>C20</td>\n",
       "      <td>King's Pawn Game</td>\n",
       "      <td>3</td>\n",
       "    </tr>\n",
       "    <tr>\n",
       "      <th>3</th>\n",
       "      <td>True</td>\n",
       "      <td>white</td>\n",
       "      <td>20+0</td>\n",
       "      <td>1439</td>\n",
       "      <td>1454</td>\n",
       "      <td>d4 d5 Nf3 Bf5 Nc3 Nf6 Bf4 Ng4 e3 Nc6 Be2 Qd7 O...</td>\n",
       "      <td>D02</td>\n",
       "      <td>Queen's Pawn Game</td>\n",
       "      <td>3</td>\n",
       "    </tr>\n",
       "    <tr>\n",
       "      <th>4</th>\n",
       "      <td>True</td>\n",
       "      <td>white</td>\n",
       "      <td>30+3</td>\n",
       "      <td>1523</td>\n",
       "      <td>1469</td>\n",
       "      <td>e4 e5 Nf3 d6 d4 Nc6 d5 Nb4 a3 Na6 Nc3 Be7 b4 N...</td>\n",
       "      <td>C41</td>\n",
       "      <td>Philidor Defense</td>\n",
       "      <td>5</td>\n",
       "    </tr>\n",
       "  </tbody>\n",
       "</table>\n",
       "</div>"
      ],
      "text/plain": [
       "   rated winner increment_code  white_rating  black_rating  \\\n",
       "0  False  white           15+2          1500          1191   \n",
       "1   True  black           5+10          1322          1261   \n",
       "2   True  white           5+10          1496          1500   \n",
       "3   True  white           20+0          1439          1454   \n",
       "4   True  white           30+3          1523          1469   \n",
       "\n",
       "                                               moves opening_eco  \\\n",
       "0  d4 d5 c4 c6 cxd5 e6 dxe6 fxe6 Nf3 Bb4+ Nc3 Ba5...         D10   \n",
       "1  d4 Nc6 e4 e5 f4 f6 dxe5 fxe5 fxe5 Nxe5 Qd4 Nc6...         B00   \n",
       "2  e4 e5 d3 d6 Be3 c6 Be2 b5 Nd2 a5 a4 c5 axb5 Nc...         C20   \n",
       "3  d4 d5 Nf3 Bf5 Nc3 Nf6 Bf4 Ng4 e3 Nc6 Be2 Qd7 O...         D02   \n",
       "4  e4 e5 Nf3 d6 d4 Nc6 d5 Nb4 a3 Na6 Nc3 Be7 b4 N...         C41   \n",
       "\n",
       "          opening_name  opening_ply  \n",
       "0         Slav Defense            5  \n",
       "1  Nimzowitsch Defense            4  \n",
       "2     King's Pawn Game            3  \n",
       "3    Queen's Pawn Game            3  \n",
       "4     Philidor Defense            5  "
      ]
     },
     "execution_count": 601,
     "metadata": {},
     "output_type": "execute_result"
    }
   ],
   "source": [
    "df6['opening_name'] = df6['opening_name'].str.split(':').str[0]\n",
    "df6.head()"
   ]
  },
  {
   "cell_type": "code",
   "execution_count": 602,
   "metadata": {},
   "outputs": [
    {
     "data": {
      "text/html": [
       "<div>\n",
       "<style scoped>\n",
       "    .dataframe tbody tr th:only-of-type {\n",
       "        vertical-align: middle;\n",
       "    }\n",
       "\n",
       "    .dataframe tbody tr th {\n",
       "        vertical-align: top;\n",
       "    }\n",
       "\n",
       "    .dataframe thead th {\n",
       "        text-align: right;\n",
       "    }\n",
       "</style>\n",
       "<table border=\"1\" class=\"dataframe\">\n",
       "  <thead>\n",
       "    <tr style=\"text-align: right;\">\n",
       "      <th></th>\n",
       "      <th>rated</th>\n",
       "      <th>winner</th>\n",
       "      <th>increment_code</th>\n",
       "      <th>white_rating</th>\n",
       "      <th>black_rating</th>\n",
       "      <th>moves</th>\n",
       "      <th>opening_eco</th>\n",
       "      <th>opening_name</th>\n",
       "      <th>opening_ply</th>\n",
       "      <th>black_opening_win_pct</th>\n",
       "    </tr>\n",
       "  </thead>\n",
       "  <tbody>\n",
       "    <tr>\n",
       "      <th>0</th>\n",
       "      <td>False</td>\n",
       "      <td>white</td>\n",
       "      <td>15+2</td>\n",
       "      <td>1500</td>\n",
       "      <td>1191</td>\n",
       "      <td>d4 d5 c4 c6 cxd5 e6 dxe6 fxe6 Nf3 Bb4+ Nc3 Ba5...</td>\n",
       "      <td>D10</td>\n",
       "      <td>Slav Defense</td>\n",
       "      <td>5</td>\n",
       "      <td>25.524324</td>\n",
       "    </tr>\n",
       "    <tr>\n",
       "      <th>1</th>\n",
       "      <td>True</td>\n",
       "      <td>black</td>\n",
       "      <td>5+10</td>\n",
       "      <td>1322</td>\n",
       "      <td>1261</td>\n",
       "      <td>d4 Nc6 e4 e5 f4 f6 dxe5 fxe5 fxe5 Nxe5 Qd4 Nc6...</td>\n",
       "      <td>B00</td>\n",
       "      <td>Nimzowitsch Defense</td>\n",
       "      <td>4</td>\n",
       "      <td>33.712500</td>\n",
       "    </tr>\n",
       "    <tr>\n",
       "      <th>2</th>\n",
       "      <td>True</td>\n",
       "      <td>white</td>\n",
       "      <td>5+10</td>\n",
       "      <td>1496</td>\n",
       "      <td>1500</td>\n",
       "      <td>e4 e5 d3 d6 Be3 c6 Be2 b5 Nd2 a5 a4 c5 axb5 Nc...</td>\n",
       "      <td>C20</td>\n",
       "      <td>King's Pawn Game</td>\n",
       "      <td>3</td>\n",
       "      <td>30.342410</td>\n",
       "    </tr>\n",
       "    <tr>\n",
       "      <th>3</th>\n",
       "      <td>True</td>\n",
       "      <td>white</td>\n",
       "      <td>20+0</td>\n",
       "      <td>1439</td>\n",
       "      <td>1454</td>\n",
       "      <td>d4 d5 Nf3 Bf5 Nc3 Nf6 Bf4 Ng4 e3 Nc6 Be2 Qd7 O...</td>\n",
       "      <td>D02</td>\n",
       "      <td>Queen's Pawn Game</td>\n",
       "      <td>3</td>\n",
       "      <td>30.342410</td>\n",
       "    </tr>\n",
       "    <tr>\n",
       "      <th>4</th>\n",
       "      <td>True</td>\n",
       "      <td>white</td>\n",
       "      <td>30+3</td>\n",
       "      <td>1523</td>\n",
       "      <td>1469</td>\n",
       "      <td>e4 e5 Nf3 d6 d4 Nc6 d5 Nb4 a3 Na6 Nc3 Be7 b4 N...</td>\n",
       "      <td>C41</td>\n",
       "      <td>Philidor Defense</td>\n",
       "      <td>5</td>\n",
       "      <td>28.909524</td>\n",
       "    </tr>\n",
       "  </tbody>\n",
       "</table>\n",
       "</div>"
      ],
      "text/plain": [
       "   rated winner increment_code  white_rating  black_rating  \\\n",
       "0  False  white           15+2          1500          1191   \n",
       "1   True  black           5+10          1322          1261   \n",
       "2   True  white           5+10          1496          1500   \n",
       "3   True  white           20+0          1439          1454   \n",
       "4   True  white           30+3          1523          1469   \n",
       "\n",
       "                                               moves opening_eco  \\\n",
       "0  d4 d5 c4 c6 cxd5 e6 dxe6 fxe6 Nf3 Bb4+ Nc3 Ba5...         D10   \n",
       "1  d4 Nc6 e4 e5 f4 f6 dxe5 fxe5 fxe5 Nxe5 Qd4 Nc6...         B00   \n",
       "2  e4 e5 d3 d6 Be3 c6 Be2 b5 Nd2 a5 a4 c5 axb5 Nc...         C20   \n",
       "3  d4 d5 Nf3 Bf5 Nc3 Nf6 Bf4 Ng4 e3 Nc6 Be2 Qd7 O...         D02   \n",
       "4  e4 e5 Nf3 d6 d4 Nc6 d5 Nb4 a3 Na6 Nc3 Be7 b4 N...         C41   \n",
       "\n",
       "          opening_name  opening_ply  black_opening_win_pct  \n",
       "0         Slav Defense            5              25.524324  \n",
       "1  Nimzowitsch Defense            4              33.712500  \n",
       "2     King's Pawn Game            3              30.342410  \n",
       "3    Queen's Pawn Game            3              30.342410  \n",
       "4     Philidor Defense            5              28.909524  "
      ]
     },
     "execution_count": 602,
     "metadata": {},
     "output_type": "execute_result"
    }
   ],
   "source": [
    "df6['black_opening_win_pct'] = np.nan\n",
    "avg_black_win = summaries['perc_black_win'].mean()\n",
    "\n",
    "def add_win_pct(row):\n",
    "    try:\n",
    "        row['black_opening_win_pct'] = summaries[summaries['opening_name'] == row['opening_name']]['perc_black_win'].iloc[0]\n",
    "    except:\n",
    "        row['black_opening_win_pct'] = avg_black_win\n",
    "\n",
    "    return row\n",
    "\n",
    "df6 = df6.apply(add_win_pct, axis=1)\n",
    "df6.head()"
   ]
  },
  {
   "cell_type": "code",
   "execution_count": 603,
   "metadata": {},
   "outputs": [
    {
     "name": "stdout",
     "output_type": "stream",
     "text": [
      "black_opening_win_pct\n",
      "30.342410    5123\n",
      "34.679924    2573\n",
      "31.640678    1306\n",
      "34.964912     981\n",
      "28.680583     720\n",
      "             ... \n",
      "33.200000       4\n",
      "54.100000       3\n",
      "28.600000       2\n",
      "30.333333       2\n",
      "31.437500       1\n",
      "Name: count, Length: 86, dtype: int64\n"
     ]
    }
   ],
   "source": [
    "print(df6['black_opening_win_pct'].value_counts())"
   ]
  },
  {
   "cell_type": "code",
   "execution_count": 604,
   "metadata": {},
   "outputs": [],
   "source": [
    "df6 = df6[df6['winner'] != 'draw']"
   ]
  },
  {
   "cell_type": "code",
   "execution_count": 605,
   "metadata": {},
   "outputs": [],
   "source": [
    "le_opening = preprocessing.LabelEncoder()\n",
    "df6['opening_name'] = le_opening.fit_transform(df6['opening_name'])\n",
    "\n",
    "le_winner = preprocessing.LabelEncoder()\n",
    "df6['winner'] = le_winner.fit_transform(df6['winner'])\n",
    "\n",
    "le_eco = preprocessing.LabelEncoder()\n",
    "df6['opening_eco'] = le_eco.fit_transform(df6['opening_eco'])\n",
    "\n",
    "le_increment = preprocessing.LabelEncoder()\n",
    "df6['increment_code'] = le_increment.fit_transform(df6['increment_code'])\n",
    "\n",
    "le_moves = preprocessing.LabelEncoder()\n",
    "df6['moves'] = le_moves.fit_transform(df6['moves'])"
   ]
  },
  {
   "cell_type": "code",
   "execution_count": 606,
   "metadata": {},
   "outputs": [],
   "source": [
    "df6.drop(['moves'], axis=1, inplace=True)"
   ]
  },
  {
   "cell_type": "markdown",
   "metadata": {},
   "source": [
    "**Evaluating Performance with Random Forest**"
   ]
  },
  {
   "cell_type": "code",
   "execution_count": 607,
   "metadata": {},
   "outputs": [],
   "source": [
    "X6 = df6.drop('winner', axis=1)\n",
    "y6 = df6['winner']\n",
    "\n",
    "X6_train, X6_test, y6_train, y6_test = train_test_split(X6, y6, test_size=0.2, random_state=42)"
   ]
  },
  {
   "cell_type": "code",
   "execution_count": 608,
   "metadata": {},
   "outputs": [
    {
     "name": "stdout",
     "output_type": "stream",
     "text": [
      "Accuracies: [0.66252453 0.65729235 0.64159581 0.64094179 0.6559843  0.64551995\n",
      " 0.66295812 0.63743455 0.66688482 0.64397906]\n",
      "Mean Accuracy: 0.6515115275699478\n"
     ]
    }
   ],
   "source": [
    "clf6 = RandomForestClassifier()\n",
    "\n",
    "kfolds_6 = KFold(n_splits=10)\n",
    "scores_6 = cross_val_score(clf6, X6_train, y6_train, cv=kfolds_6)\n",
    "print(\"Accuracies: \" + str(scores_6))\n",
    "print(\"Mean Accuracy: \" + str(scores_6.mean()))"
   ]
  },
  {
   "cell_type": "code",
   "execution_count": 609,
   "metadata": {},
   "outputs": [
    {
     "name": "stdout",
     "output_type": "stream",
     "text": [
      "Train Score: 0.9990187099306554\n",
      "Test Score: 0.6596023024594453\n"
     ]
    }
   ],
   "source": [
    "clf6 = RandomForestClassifier()\n",
    "clf6.fit(X6_train, y6_train)\n",
    "\n",
    "train_accuracy_6 = clf6.score(X6_train, y6_train)\n",
    "print(\"Train Score: \" + str(train_accuracy_6))\n",
    "test_accuracy_6 = clf6.score(X6_test, y6_test)\n",
    "print(\"Test Score: \" + str(test_accuracy_6))\n",
    "\n",
    "y6_pred = clf6.predict(X6_test)"
   ]
  },
  {
   "cell_type": "code",
   "execution_count": null,
   "metadata": {},
   "outputs": [],
   "source": []
  }
 ],
 "metadata": {
  "kernelspec": {
   "display_name": "Python 3",
   "language": "python",
   "name": "python3"
  },
  "language_info": {
   "codemirror_mode": {
    "name": "ipython",
    "version": 3
   },
   "file_extension": ".py",
   "mimetype": "text/x-python",
   "name": "python",
   "nbconvert_exporter": "python",
   "pygments_lexer": "ipython3",
   "version": "3.11.8"
  }
 },
 "nbformat": 4,
 "nbformat_minor": 2
}
